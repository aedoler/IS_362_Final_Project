{
 "cells": [
  {
   "cell_type": "markdown",
   "metadata": {},
   "source": [
    "## IS 362 Final Project\n",
    "### By Alexander Doler\n",
    "#### May 14, 2017\n"
   ]
  },
  {
   "cell_type": "markdown",
   "metadata": {},
   "source": [
    "#### This project aims to analyze NBA player and team data, such as player salaries and individual stats, as well as team revenue and worth, in order to identify trends that affect players' salaries.\n",
    "\n",
    "* Hypothesis prior to analyzing the data:\n",
    "    * There will be a trend toward higher earnings for players with better stats\n",
    "    * Players playing for teams with higher revenue will also earn more"
   ]
  },
  {
   "cell_type": "code",
   "execution_count": 66,
   "metadata": {
    "collapsed": false
   },
   "outputs": [],
   "source": [
    "import pandas as pd\n",
    "import numpy as np\n",
    "import html5lib\n",
    "import decimal\n",
    "import matplotlib.pyplot as plt\n",
    "import json\n",
    "import requests\n",
    "import sqlite3\n",
    "%matplotlib inline"
   ]
  },
  {
   "cell_type": "markdown",
   "metadata": {},
   "source": [
    "### Import data\n",
    "\n",
    "- Data is imported from 3 different sources.\n",
    "    - Table scraped from web: **Player salaries**\n",
    "    - Table scraped from web: **Player statistics**\n",
    "    - CSV file converted to an SQLITE database and imported as a dataframe: **Team worth and revenue**\n",
    "    \n"
   ]
  },
  {
   "cell_type": "markdown",
   "metadata": {},
   "source": [
    "### Import scraped player salaries"
   ]
  },
  {
   "cell_type": "code",
   "execution_count": 67,
   "metadata": {
    "collapsed": false
   },
   "outputs": [
    {
     "data": {
      "text/html": [
       "<div>\n",
       "<table border=\"1\" class=\"dataframe\">\n",
       "  <thead>\n",
       "    <tr style=\"text-align: right;\">\n",
       "      <th></th>\n",
       "      <th>Rank</th>\n",
       "      <th>Player</th>\n",
       "      <th>Team</th>\n",
       "      <th>Salary</th>\n",
       "    </tr>\n",
       "  </thead>\n",
       "  <tbody>\n",
       "    <tr>\n",
       "      <th>0</th>\n",
       "      <td>1</td>\n",
       "      <td>LeBron James, SF</td>\n",
       "      <td>Cleveland Cavaliers</td>\n",
       "      <td>$30,963,450</td>\n",
       "    </tr>\n",
       "    <tr>\n",
       "      <th>1</th>\n",
       "      <td>2</td>\n",
       "      <td>Mike Conley, PG</td>\n",
       "      <td>Memphis Grizzlies</td>\n",
       "      <td>$26,540,100</td>\n",
       "    </tr>\n",
       "    <tr>\n",
       "      <th>2</th>\n",
       "      <td>3</td>\n",
       "      <td>Al Horford, C</td>\n",
       "      <td>Boston Celtics</td>\n",
       "      <td>$26,540,100</td>\n",
       "    </tr>\n",
       "    <tr>\n",
       "      <th>3</th>\n",
       "      <td>4</td>\n",
       "      <td>Dirk Nowitzki, PF</td>\n",
       "      <td>Dallas Mavericks</td>\n",
       "      <td>$25,000,000</td>\n",
       "    </tr>\n",
       "    <tr>\n",
       "      <th>4</th>\n",
       "      <td>5</td>\n",
       "      <td>Carmelo Anthony, SF</td>\n",
       "      <td>New York Knicks</td>\n",
       "      <td>$24,559,380</td>\n",
       "    </tr>\n",
       "  </tbody>\n",
       "</table>\n",
       "</div>"
      ],
      "text/plain": [
       "   Rank               Player                 Team       Salary\n",
       "0     1     LeBron James, SF  Cleveland Cavaliers  $30,963,450\n",
       "1     2      Mike Conley, PG    Memphis Grizzlies  $26,540,100\n",
       "2     3        Al Horford, C       Boston Celtics  $26,540,100\n",
       "3     4    Dirk Nowitzki, PF     Dallas Mavericks  $25,000,000\n",
       "4     5  Carmelo Anthony, SF      New York Knicks  $24,559,380"
      ]
     },
     "execution_count": 67,
     "metadata": {},
     "output_type": "execute_result"
    }
   ],
   "source": [
    "source = 'http://espn.go.com/nba/salaries/_/page/'\n",
    "SALARY_DATA = pd.read_html(source, header=None, skiprows=[0,11,22,33])\n",
    "SALARY_DATA = SALARY_DATA[0]\n",
    "SALARY_DATA.columns = [\"Rank\",\"Player\",\"Team\",\"Salary\"]\n",
    "SALARY_DATA.head()"
   ]
  },
  {
   "cell_type": "markdown",
   "metadata": {},
   "source": [
    "### Import scraped player statistics"
   ]
  },
  {
   "cell_type": "code",
   "execution_count": 68,
   "metadata": {
    "collapsed": false
   },
   "outputs": [
    {
     "data": {
      "text/html": [
       "<div>\n",
       "<table border=\"1\" class=\"dataframe\">\n",
       "  <thead>\n",
       "    <tr style=\"text-align: right;\">\n",
       "      <th></th>\n",
       "      <th>Rk</th>\n",
       "      <th>Player</th>\n",
       "      <th>Pos</th>\n",
       "      <th>Age</th>\n",
       "      <th>Tm</th>\n",
       "      <th>G</th>\n",
       "      <th>GS</th>\n",
       "      <th>MP</th>\n",
       "      <th>FG</th>\n",
       "      <th>FGA</th>\n",
       "      <th>...</th>\n",
       "      <th>FT%</th>\n",
       "      <th>ORB</th>\n",
       "      <th>DRB</th>\n",
       "      <th>TRB</th>\n",
       "      <th>AST</th>\n",
       "      <th>STL</th>\n",
       "      <th>BLK</th>\n",
       "      <th>TOV</th>\n",
       "      <th>PF</th>\n",
       "      <th>PTS</th>\n",
       "    </tr>\n",
       "  </thead>\n",
       "  <tbody>\n",
       "    <tr>\n",
       "      <th>0</th>\n",
       "      <td>1</td>\n",
       "      <td>Quincy Acy</td>\n",
       "      <td>PF</td>\n",
       "      <td>25</td>\n",
       "      <td>SAC</td>\n",
       "      <td>59</td>\n",
       "      <td>29</td>\n",
       "      <td>876</td>\n",
       "      <td>119</td>\n",
       "      <td>214</td>\n",
       "      <td>...</td>\n",
       "      <td>.735</td>\n",
       "      <td>65</td>\n",
       "      <td>123</td>\n",
       "      <td>188</td>\n",
       "      <td>27</td>\n",
       "      <td>29</td>\n",
       "      <td>24</td>\n",
       "      <td>27</td>\n",
       "      <td>103</td>\n",
       "      <td>307</td>\n",
       "    </tr>\n",
       "    <tr>\n",
       "      <th>1</th>\n",
       "      <td>2</td>\n",
       "      <td>Jordan Adams</td>\n",
       "      <td>SG</td>\n",
       "      <td>21</td>\n",
       "      <td>MEM</td>\n",
       "      <td>2</td>\n",
       "      <td>0</td>\n",
       "      <td>15</td>\n",
       "      <td>2</td>\n",
       "      <td>6</td>\n",
       "      <td>...</td>\n",
       "      <td>.600</td>\n",
       "      <td>0</td>\n",
       "      <td>2</td>\n",
       "      <td>2</td>\n",
       "      <td>3</td>\n",
       "      <td>3</td>\n",
       "      <td>0</td>\n",
       "      <td>2</td>\n",
       "      <td>2</td>\n",
       "      <td>7</td>\n",
       "    </tr>\n",
       "    <tr>\n",
       "      <th>2</th>\n",
       "      <td>3</td>\n",
       "      <td>Steven Adams</td>\n",
       "      <td>C</td>\n",
       "      <td>22</td>\n",
       "      <td>OKC</td>\n",
       "      <td>80</td>\n",
       "      <td>80</td>\n",
       "      <td>2014</td>\n",
       "      <td>261</td>\n",
       "      <td>426</td>\n",
       "      <td>...</td>\n",
       "      <td>.582</td>\n",
       "      <td>219</td>\n",
       "      <td>314</td>\n",
       "      <td>533</td>\n",
       "      <td>62</td>\n",
       "      <td>42</td>\n",
       "      <td>89</td>\n",
       "      <td>84</td>\n",
       "      <td>223</td>\n",
       "      <td>636</td>\n",
       "    </tr>\n",
       "    <tr>\n",
       "      <th>3</th>\n",
       "      <td>4</td>\n",
       "      <td>Arron Afflalo</td>\n",
       "      <td>SG</td>\n",
       "      <td>30</td>\n",
       "      <td>NYK</td>\n",
       "      <td>71</td>\n",
       "      <td>57</td>\n",
       "      <td>2371</td>\n",
       "      <td>354</td>\n",
       "      <td>799</td>\n",
       "      <td>...</td>\n",
       "      <td>.840</td>\n",
       "      <td>23</td>\n",
       "      <td>243</td>\n",
       "      <td>266</td>\n",
       "      <td>144</td>\n",
       "      <td>25</td>\n",
       "      <td>10</td>\n",
       "      <td>82</td>\n",
       "      <td>142</td>\n",
       "      <td>909</td>\n",
       "    </tr>\n",
       "    <tr>\n",
       "      <th>4</th>\n",
       "      <td>5</td>\n",
       "      <td>Alexis Ajinca</td>\n",
       "      <td>C</td>\n",
       "      <td>27</td>\n",
       "      <td>NOP</td>\n",
       "      <td>59</td>\n",
       "      <td>17</td>\n",
       "      <td>861</td>\n",
       "      <td>150</td>\n",
       "      <td>315</td>\n",
       "      <td>...</td>\n",
       "      <td>.839</td>\n",
       "      <td>75</td>\n",
       "      <td>194</td>\n",
       "      <td>269</td>\n",
       "      <td>31</td>\n",
       "      <td>19</td>\n",
       "      <td>36</td>\n",
       "      <td>54</td>\n",
       "      <td>134</td>\n",
       "      <td>352</td>\n",
       "    </tr>\n",
       "  </tbody>\n",
       "</table>\n",
       "<p>5 rows × 30 columns</p>\n",
       "</div>"
      ],
      "text/plain": [
       "  Rk         Player Pos Age   Tm   G  GS    MP   FG  FGA ...    FT%  ORB  DRB  \\\n",
       "0  1     Quincy Acy  PF  25  SAC  59  29   876  119  214 ...   .735   65  123   \n",
       "1  2   Jordan Adams  SG  21  MEM   2   0    15    2    6 ...   .600    0    2   \n",
       "2  3   Steven Adams   C  22  OKC  80  80  2014  261  426 ...   .582  219  314   \n",
       "3  4  Arron Afflalo  SG  30  NYK  71  57  2371  354  799 ...   .840   23  243   \n",
       "4  5  Alexis Ajinca   C  27  NOP  59  17   861  150  315 ...   .839   75  194   \n",
       "\n",
       "   TRB  AST STL BLK TOV   PF  PTS  \n",
       "0  188   27  29  24  27  103  307  \n",
       "1    2    3   3   0   2    2    7  \n",
       "2  533   62  42  89  84  223  636  \n",
       "3  266  144  25  10  82  142  909  \n",
       "4  269   31  19  36  54  134  352  \n",
       "\n",
       "[5 rows x 30 columns]"
      ]
     },
     "execution_count": 68,
     "metadata": {},
     "output_type": "execute_result"
    }
   ],
   "source": [
    "sourceStats = 'http://www.basketball-reference.com/leagues/NBA_2016_totals.html'\n",
    "STAT_DATA = pd.read_html(sourceStats)\n",
    "STAT_DATA = STAT_DATA[0]\n",
    "STAT_DATA.head()"
   ]
  },
  {
   "cell_type": "markdown",
   "metadata": {},
   "source": [
    "### Import SQL database containing team value and revenue"
   ]
  },
  {
   "cell_type": "code",
   "execution_count": 69,
   "metadata": {
    "collapsed": false
   },
   "outputs": [
    {
     "data": {
      "text/html": [
       "<div>\n",
       "<table border=\"1\" class=\"dataframe\">\n",
       "  <thead>\n",
       "    <tr style=\"text-align: right;\">\n",
       "      <th></th>\n",
       "      <th>Team</th>\n",
       "      <th>CurrValue</th>\n",
       "      <th>Revenue</th>\n",
       "      <th>OperIncome</th>\n",
       "    </tr>\n",
       "  </thead>\n",
       "  <tbody>\n",
       "    <tr>\n",
       "      <th>0</th>\n",
       "      <td>Los Angeles Lakers</td>\n",
       "      <td>607</td>\n",
       "      <td>209</td>\n",
       "      <td>51.1</td>\n",
       "    </tr>\n",
       "    <tr>\n",
       "      <th>1</th>\n",
       "      <td>New York Knicks</td>\n",
       "      <td>586</td>\n",
       "      <td>202</td>\n",
       "      <td>21</td>\n",
       "    </tr>\n",
       "    <tr>\n",
       "      <th>2</th>\n",
       "      <td>Chicago Bulls</td>\n",
       "      <td>511</td>\n",
       "      <td>168</td>\n",
       "      <td>51</td>\n",
       "    </tr>\n",
       "    <tr>\n",
       "      <th>3</th>\n",
       "      <td>Detroit Pistons</td>\n",
       "      <td>479</td>\n",
       "      <td>171</td>\n",
       "      <td>46.9</td>\n",
       "    </tr>\n",
       "    <tr>\n",
       "      <th>4</th>\n",
       "      <td>Cleveland Cavaliers</td>\n",
       "      <td>476</td>\n",
       "      <td>159</td>\n",
       "      <td>5</td>\n",
       "    </tr>\n",
       "  </tbody>\n",
       "</table>\n",
       "</div>"
      ],
      "text/plain": [
       "                  Team CurrValue Revenue OperIncome\n",
       "0   Los Angeles Lakers       607     209       51.1\n",
       "1      New York Knicks       586     202         21\n",
       "2        Chicago Bulls       511     168         51\n",
       "3      Detroit Pistons       479     171       46.9\n",
       "4  Cleveland Cavaliers       476     159          5"
      ]
     },
     "execution_count": 69,
     "metadata": {},
     "output_type": "execute_result"
    }
   ],
   "source": [
    "\"\"\"\n",
    "Commands to convert teamdata csv into SQLITE database:\n",
    "- cat teamdata.csv | tr -s '\\r' '\\n' > teamdata2.csv\n",
    "- sqlite3 teamdata.db\n",
    "- .mode csv\n",
    "- .import teamdata2.csv teamdata\n",
    "\"\"\"\n",
    "\n",
    "sql = '''SELECT \"Team\", \"Current Value1 ($mil)\", \"Revenue3 ($mil)\", \"Operating Income4 ($mil)\"\n",
    "         FROM teamdata;\n",
    "         '''\n",
    "con = sqlite3.connect(\"teamdata.db\")\n",
    "TEAM_DATA = pd.read_sql_query(sql, con)\n",
    "con.close()\n",
    "TEAM_DATA.columns = [\"Team\",\"CurrValue\",\"Revenue\", \"OperIncome\"]\n",
    "TEAM_DATA.head()"
   ]
  },
  {
   "cell_type": "markdown",
   "metadata": {},
   "source": [
    "#### The player salary data came with the player name and position in the same column. The algorithm below splits this column and creates two new columns; one for Player names and on for their Position"
   ]
  },
  {
   "cell_type": "code",
   "execution_count": 70,
   "metadata": {
    "collapsed": false
   },
   "outputs": [
    {
     "data": {
      "text/html": [
       "<div>\n",
       "<table border=\"1\" class=\"dataframe\">\n",
       "  <thead>\n",
       "    <tr style=\"text-align: right;\">\n",
       "      <th></th>\n",
       "      <th>Rank</th>\n",
       "      <th>Player</th>\n",
       "      <th>Team</th>\n",
       "      <th>Salary</th>\n",
       "      <th>Position</th>\n",
       "    </tr>\n",
       "  </thead>\n",
       "  <tbody>\n",
       "    <tr>\n",
       "      <th>0</th>\n",
       "      <td>1</td>\n",
       "      <td>LeBron James</td>\n",
       "      <td>Cleveland Cavaliers</td>\n",
       "      <td>$30,963,450</td>\n",
       "      <td>SF</td>\n",
       "    </tr>\n",
       "    <tr>\n",
       "      <th>1</th>\n",
       "      <td>2</td>\n",
       "      <td>Mike Conley</td>\n",
       "      <td>Memphis Grizzlies</td>\n",
       "      <td>$26,540,100</td>\n",
       "      <td>PG</td>\n",
       "    </tr>\n",
       "    <tr>\n",
       "      <th>2</th>\n",
       "      <td>3</td>\n",
       "      <td>Al Horford</td>\n",
       "      <td>Boston Celtics</td>\n",
       "      <td>$26,540,100</td>\n",
       "      <td>C</td>\n",
       "    </tr>\n",
       "    <tr>\n",
       "      <th>3</th>\n",
       "      <td>4</td>\n",
       "      <td>Dirk Nowitzki</td>\n",
       "      <td>Dallas Mavericks</td>\n",
       "      <td>$25,000,000</td>\n",
       "      <td>PF</td>\n",
       "    </tr>\n",
       "    <tr>\n",
       "      <th>4</th>\n",
       "      <td>5</td>\n",
       "      <td>Carmelo Anthony</td>\n",
       "      <td>New York Knicks</td>\n",
       "      <td>$24,559,380</td>\n",
       "      <td>SF</td>\n",
       "    </tr>\n",
       "  </tbody>\n",
       "</table>\n",
       "</div>"
      ],
      "text/plain": [
       "   Rank           Player                 Team       Salary Position\n",
       "0     1     LeBron James  Cleveland Cavaliers  $30,963,450       SF\n",
       "1     2      Mike Conley    Memphis Grizzlies  $26,540,100       PG\n",
       "2     3       Al Horford       Boston Celtics  $26,540,100        C\n",
       "3     4    Dirk Nowitzki     Dallas Mavericks  $25,000,000       PF\n",
       "4     5  Carmelo Anthony      New York Knicks  $24,559,380       SF"
      ]
     },
     "execution_count": 70,
     "metadata": {},
     "output_type": "execute_result"
    }
   ],
   "source": [
    "player = []\n",
    "position = []\n",
    "\n",
    "for cell in SALARY_DATA.Player:\n",
    "    new = cell.split(',')\n",
    "    player.append(new[0])\n",
    "    position.append(new[1])\n",
    "    \n",
    "player = pd.Series(player)\n",
    "position = pd.Series(position)\n",
    "\n",
    "SALARY_DATA.Player = player\n",
    "SALARY_DATA['Position'] = position\n",
    "SALARY_DATA.head()"
   ]
  },
  {
   "cell_type": "markdown",
   "metadata": {
    "collapsed": false
   },
   "source": [
    "#### The salary column was not in a numeric format understood by pandas. I had to remove the dollar sign and commas and turn the column into a numeric (float) datatype.\n",
    "\n",
    "#### I then calculate the mean salary for each position. As we can see, the point guard is the position with the highest average salary. This makes sense, as it is often regarded as the lead position on the court."
   ]
  },
  {
   "cell_type": "code",
   "execution_count": 71,
   "metadata": {
    "collapsed": false
   },
   "outputs": [
    {
     "data": {
      "text/html": [
       "<div>\n",
       "<table border=\"1\" class=\"dataframe\">\n",
       "  <thead>\n",
       "    <tr style=\"text-align: right;\">\n",
       "      <th></th>\n",
       "      <th>Rank</th>\n",
       "      <th>Salary</th>\n",
       "    </tr>\n",
       "    <tr>\n",
       "      <th>Position</th>\n",
       "      <th></th>\n",
       "      <th></th>\n",
       "    </tr>\n",
       "  </thead>\n",
       "  <tbody>\n",
       "    <tr>\n",
       "      <th>PG</th>\n",
       "      <td>15.833333</td>\n",
       "      <td>2.160943e+07</td>\n",
       "    </tr>\n",
       "    <tr>\n",
       "      <th>PF</th>\n",
       "      <td>17.777778</td>\n",
       "      <td>2.094496e+07</td>\n",
       "    </tr>\n",
       "    <tr>\n",
       "      <th>SF</th>\n",
       "      <td>21.000000</td>\n",
       "      <td>2.026861e+07</td>\n",
       "    </tr>\n",
       "    <tr>\n",
       "      <th>C</th>\n",
       "      <td>21.500000</td>\n",
       "      <td>2.004293e+07</td>\n",
       "    </tr>\n",
       "    <tr>\n",
       "      <th>SG</th>\n",
       "      <td>25.500000</td>\n",
       "      <td>1.898615e+07</td>\n",
       "    </tr>\n",
       "  </tbody>\n",
       "</table>\n",
       "</div>"
      ],
      "text/plain": [
       "               Rank        Salary\n",
       "Position                         \n",
       " PG       15.833333  2.160943e+07\n",
       " PF       17.777778  2.094496e+07\n",
       " SF       21.000000  2.026861e+07\n",
       " C        21.500000  2.004293e+07\n",
       " SG       25.500000  1.898615e+07"
      ]
     },
     "execution_count": 71,
     "metadata": {},
     "output_type": "execute_result"
    }
   ],
   "source": [
    "salaries = []\n",
    "\n",
    "for salary in SALARY_DATA.Salary:\n",
    "    salary = salary.strip(\"$\")\n",
    "    salary = salary.replace(\",\", \"\")\n",
    "    salary = float(salary)\n",
    "    salaries.append(salary)\n",
    "\n",
    "pd.Series(salaries)\n",
    "\n",
    "SALARY_DATA.Salary = salaries\n",
    "    \n",
    "\n",
    "SALARY_DATA.Salary.astype(np.float64)\n",
    "SALARY_DATA.groupby(\"Position\").mean().sort_values(\"Salary\",ascending=False)"
   ]
  },
  {
   "cell_type": "markdown",
   "metadata": {
    "collapsed": false
   },
   "source": [
    "#### Below is a graph of the same average salary per position data"
   ]
  },
  {
   "cell_type": "code",
   "execution_count": 72,
   "metadata": {
    "collapsed": false
   },
   "outputs": [
    {
     "data": {
      "text/plain": [
       "<matplotlib.axes._subplots.AxesSubplot at 0x11092a048>"
      ]
     },
     "execution_count": 72,
     "metadata": {},
     "output_type": "execute_result"
    },
    {
     "data": {
      "image/png": "[encoded data removed]",
      "text/plain": [
       "<matplotlib.figure.Figure at 0x11092bb00>"
      ]
     },
     "metadata": {},
     "output_type": "display_data"
    }
   ],
   "source": [
    "SALARY_DATA.groupby(\"Position\").mean().plot(y=\"Salary\",kind=\"bar\")"
   ]
  },
  {
   "cell_type": "markdown",
   "metadata": {
    "collapsed": false
   },
   "source": [
    "#### In this cell I merge the Salary dataset with the Player Stats dataset. This is done via an \"Inner\" join on the Player columns."
   ]
  },
  {
   "cell_type": "code",
   "execution_count": 84,
   "metadata": {
    "collapsed": false
   },
   "outputs": [
    {
     "data": {
      "text/html": [
       "<div>\n",
       "<table border=\"1\" class=\"dataframe\">\n",
       "  <thead>\n",
       "    <tr style=\"text-align: right;\">\n",
       "      <th></th>\n",
       "      <th>Rank</th>\n",
       "      <th>Player</th>\n",
       "      <th>Team</th>\n",
       "      <th>Salary</th>\n",
       "      <th>Position</th>\n",
       "      <th>Rk</th>\n",
       "      <th>Pos</th>\n",
       "      <th>Age</th>\n",
       "      <th>Tm</th>\n",
       "      <th>G</th>\n",
       "      <th>...</th>\n",
       "      <th>FT%</th>\n",
       "      <th>ORB</th>\n",
       "      <th>DRB</th>\n",
       "      <th>TRB</th>\n",
       "      <th>AST</th>\n",
       "      <th>STL</th>\n",
       "      <th>BLK</th>\n",
       "      <th>TOV</th>\n",
       "      <th>PF</th>\n",
       "      <th>PTS</th>\n",
       "    </tr>\n",
       "  </thead>\n",
       "  <tbody>\n",
       "    <tr>\n",
       "      <th>0</th>\n",
       "      <td>1</td>\n",
       "      <td>LeBron James</td>\n",
       "      <td>Cleveland Cavaliers</td>\n",
       "      <td>30963450.0</td>\n",
       "      <td>SF</td>\n",
       "      <td>221</td>\n",
       "      <td>SF</td>\n",
       "      <td>31</td>\n",
       "      <td>CLE</td>\n",
       "      <td>76</td>\n",
       "      <td>...</td>\n",
       "      <td>.731</td>\n",
       "      <td>111</td>\n",
       "      <td>454</td>\n",
       "      <td>565</td>\n",
       "      <td>514</td>\n",
       "      <td>104</td>\n",
       "      <td>49</td>\n",
       "      <td>249</td>\n",
       "      <td>143</td>\n",
       "      <td>1920</td>\n",
       "    </tr>\n",
       "    <tr>\n",
       "      <th>1</th>\n",
       "      <td>2</td>\n",
       "      <td>Mike Conley</td>\n",
       "      <td>Memphis Grizzlies</td>\n",
       "      <td>26540100.0</td>\n",
       "      <td>PG</td>\n",
       "      <td>93</td>\n",
       "      <td>PG</td>\n",
       "      <td>28</td>\n",
       "      <td>MEM</td>\n",
       "      <td>56</td>\n",
       "      <td>...</td>\n",
       "      <td>.834</td>\n",
       "      <td>26</td>\n",
       "      <td>138</td>\n",
       "      <td>164</td>\n",
       "      <td>342</td>\n",
       "      <td>67</td>\n",
       "      <td>16</td>\n",
       "      <td>84</td>\n",
       "      <td>100</td>\n",
       "      <td>857</td>\n",
       "    </tr>\n",
       "    <tr>\n",
       "      <th>2</th>\n",
       "      <td>3</td>\n",
       "      <td>Al Horford</td>\n",
       "      <td>Boston Celtics</td>\n",
       "      <td>26540100.0</td>\n",
       "      <td>C</td>\n",
       "      <td>207</td>\n",
       "      <td>C</td>\n",
       "      <td>29</td>\n",
       "      <td>ATL</td>\n",
       "      <td>82</td>\n",
       "      <td>...</td>\n",
       "      <td>.798</td>\n",
       "      <td>148</td>\n",
       "      <td>448</td>\n",
       "      <td>596</td>\n",
       "      <td>263</td>\n",
       "      <td>68</td>\n",
       "      <td>121</td>\n",
       "      <td>107</td>\n",
       "      <td>163</td>\n",
       "      <td>1249</td>\n",
       "    </tr>\n",
       "    <tr>\n",
       "      <th>3</th>\n",
       "      <td>4</td>\n",
       "      <td>Dirk Nowitzki</td>\n",
       "      <td>Dallas Mavericks</td>\n",
       "      <td>25000000.0</td>\n",
       "      <td>PF</td>\n",
       "      <td>332</td>\n",
       "      <td>PF</td>\n",
       "      <td>37</td>\n",
       "      <td>DAL</td>\n",
       "      <td>75</td>\n",
       "      <td>...</td>\n",
       "      <td>.893</td>\n",
       "      <td>52</td>\n",
       "      <td>437</td>\n",
       "      <td>489</td>\n",
       "      <td>132</td>\n",
       "      <td>52</td>\n",
       "      <td>52</td>\n",
       "      <td>84</td>\n",
       "      <td>161</td>\n",
       "      <td>1372</td>\n",
       "    </tr>\n",
       "    <tr>\n",
       "      <th>4</th>\n",
       "      <td>5</td>\n",
       "      <td>Carmelo Anthony</td>\n",
       "      <td>New York Knicks</td>\n",
       "      <td>24559380.0</td>\n",
       "      <td>SF</td>\n",
       "      <td>21</td>\n",
       "      <td>SF</td>\n",
       "      <td>31</td>\n",
       "      <td>NYK</td>\n",
       "      <td>72</td>\n",
       "      <td>...</td>\n",
       "      <td>.829</td>\n",
       "      <td>98</td>\n",
       "      <td>458</td>\n",
       "      <td>556</td>\n",
       "      <td>299</td>\n",
       "      <td>62</td>\n",
       "      <td>38</td>\n",
       "      <td>176</td>\n",
       "      <td>180</td>\n",
       "      <td>1573</td>\n",
       "    </tr>\n",
       "  </tbody>\n",
       "</table>\n",
       "<p>5 rows × 34 columns</p>\n",
       "</div>"
      ],
      "text/plain": [
       "   Rank           Player                 Team      Salary Position   Rk Pos  \\\n",
       "0     1     LeBron James  Cleveland Cavaliers  30963450.0       SF  221  SF   \n",
       "1     2      Mike Conley    Memphis Grizzlies  26540100.0       PG   93  PG   \n",
       "2     3       Al Horford       Boston Celtics  26540100.0        C  207   C   \n",
       "3     4    Dirk Nowitzki     Dallas Mavericks  25000000.0       PF  332  PF   \n",
       "4     5  Carmelo Anthony      New York Knicks  24559380.0       SF   21  SF   \n",
       "\n",
       "  Age   Tm   G  ...    FT%  ORB  DRB  TRB  AST  STL  BLK  TOV   PF   PTS  \n",
       "0  31  CLE  76  ...   .731  111  454  565  514  104   49  249  143  1920  \n",
       "1  28  MEM  56  ...   .834   26  138  164  342   67   16   84  100   857  \n",
       "2  29  ATL  82  ...   .798  148  448  596  263   68  121  107  163  1249  \n",
       "3  37  DAL  75  ...   .893   52  437  489  132   52   52   84  161  1372  \n",
       "4  31  NYK  72  ...   .829   98  458  556  299   62   38  176  180  1573  \n",
       "\n",
       "[5 rows x 34 columns]"
      ]
     },
     "execution_count": 84,
     "metadata": {},
     "output_type": "execute_result"
    }
   ],
   "source": [
    "MERGED_DF = SALARY_DATA.merge(STAT_DATA, how='inner', on='Player')\n",
    "MERGED_DF.PTS = pd.to_numeric(MERGED_DF.PTS)\n",
    "MERGED_DF.head()"
   ]
  },
  {
   "cell_type": "markdown",
   "metadata": {},
   "source": [
    "#### Scatter plot showing the relationship between Salary and Points Scored\n",
    "- As we can see, there is indeed a loose relationship between the two.\n",
    "- There is a trend toward higher salaries for players who score more points, but it is not an extremely strong relationship, as some high scorers have low salaries."
   ]
  },
  {
   "cell_type": "code",
   "execution_count": 74,
   "metadata": {
    "collapsed": false
   },
   "outputs": [
    {
     "data": {
      "text/plain": [
       "<matplotlib.collections.PathCollection at 0x111fed5c0>"
      ]
     },
     "execution_count": 74,
     "metadata": {},
     "output_type": "execute_result"
    },
    {
     "data": {
      "image/png": "[encoded data removed]",
      "text/plain": [
       "<matplotlib.figure.Figure at 0x117d3ab00>"
      ]
     },
     "metadata": {},
     "output_type": "display_data"
    }
   ],
   "source": [
    "plt.scatter(MERGED_DF.PTS,MERGED_DF.Salary,c=\"black\")\n"
   ]
  },
  {
   "cell_type": "code",
   "execution_count": 85,
   "metadata": {
    "collapsed": false
   },
   "outputs": [
    {
     "data": {
      "text/html": [
       "<div>\n",
       "<table border=\"1\" class=\"dataframe\">\n",
       "  <thead>\n",
       "    <tr style=\"text-align: right;\">\n",
       "      <th></th>\n",
       "      <th>Rank</th>\n",
       "      <th>Player</th>\n",
       "      <th>Team</th>\n",
       "      <th>Salary</th>\n",
       "      <th>Position</th>\n",
       "      <th>Rk</th>\n",
       "      <th>Pos</th>\n",
       "      <th>Age</th>\n",
       "      <th>Tm</th>\n",
       "      <th>G</th>\n",
       "      <th>...</th>\n",
       "      <th>TRB</th>\n",
       "      <th>AST</th>\n",
       "      <th>STL</th>\n",
       "      <th>BLK</th>\n",
       "      <th>TOV</th>\n",
       "      <th>PF</th>\n",
       "      <th>PTS</th>\n",
       "      <th>CurrValue</th>\n",
       "      <th>Revenue</th>\n",
       "      <th>OperIncome</th>\n",
       "    </tr>\n",
       "  </thead>\n",
       "  <tbody>\n",
       "    <tr>\n",
       "      <th>0</th>\n",
       "      <td>1</td>\n",
       "      <td>LeBron James</td>\n",
       "      <td>Cleveland Cavaliers</td>\n",
       "      <td>30963450.0</td>\n",
       "      <td>SF</td>\n",
       "      <td>221</td>\n",
       "      <td>SF</td>\n",
       "      <td>31</td>\n",
       "      <td>CLE</td>\n",
       "      <td>76</td>\n",
       "      <td>...</td>\n",
       "      <td>565</td>\n",
       "      <td>514</td>\n",
       "      <td>104</td>\n",
       "      <td>49</td>\n",
       "      <td>249</td>\n",
       "      <td>143</td>\n",
       "      <td>1920</td>\n",
       "      <td>476</td>\n",
       "      <td>159</td>\n",
       "      <td>5</td>\n",
       "    </tr>\n",
       "    <tr>\n",
       "      <th>1</th>\n",
       "      <td>17</td>\n",
       "      <td>Kevin Love</td>\n",
       "      <td>Cleveland Cavaliers</td>\n",
       "      <td>21165675.0</td>\n",
       "      <td>PF</td>\n",
       "      <td>272</td>\n",
       "      <td>PF</td>\n",
       "      <td>27</td>\n",
       "      <td>CLE</td>\n",
       "      <td>77</td>\n",
       "      <td>...</td>\n",
       "      <td>762</td>\n",
       "      <td>186</td>\n",
       "      <td>58</td>\n",
       "      <td>41</td>\n",
       "      <td>142</td>\n",
       "      <td>159</td>\n",
       "      <td>1234</td>\n",
       "      <td>476</td>\n",
       "      <td>159</td>\n",
       "      <td>5</td>\n",
       "    </tr>\n",
       "    <tr>\n",
       "      <th>2</th>\n",
       "      <td>27</td>\n",
       "      <td>Kyrie Irving</td>\n",
       "      <td>Cleveland Cavaliers</td>\n",
       "      <td>17638063.0</td>\n",
       "      <td>PG</td>\n",
       "      <td>218</td>\n",
       "      <td>PG</td>\n",
       "      <td>23</td>\n",
       "      <td>CLE</td>\n",
       "      <td>53</td>\n",
       "      <td>...</td>\n",
       "      <td>157</td>\n",
       "      <td>249</td>\n",
       "      <td>56</td>\n",
       "      <td>18</td>\n",
       "      <td>124</td>\n",
       "      <td>107</td>\n",
       "      <td>1041</td>\n",
       "      <td>476</td>\n",
       "      <td>159</td>\n",
       "      <td>5</td>\n",
       "    </tr>\n",
       "    <tr>\n",
       "      <th>3</th>\n",
       "      <td>2</td>\n",
       "      <td>Mike Conley</td>\n",
       "      <td>Memphis Grizzlies</td>\n",
       "      <td>26540100.0</td>\n",
       "      <td>PG</td>\n",
       "      <td>93</td>\n",
       "      <td>PG</td>\n",
       "      <td>28</td>\n",
       "      <td>MEM</td>\n",
       "      <td>56</td>\n",
       "      <td>...</td>\n",
       "      <td>164</td>\n",
       "      <td>342</td>\n",
       "      <td>67</td>\n",
       "      <td>16</td>\n",
       "      <td>84</td>\n",
       "      <td>100</td>\n",
       "      <td>857</td>\n",
       "      <td>257</td>\n",
       "      <td>88</td>\n",
       "      <td>-7.1</td>\n",
       "    </tr>\n",
       "    <tr>\n",
       "      <th>4</th>\n",
       "      <td>11</td>\n",
       "      <td>Chandler Parsons</td>\n",
       "      <td>Memphis Grizzlies</td>\n",
       "      <td>22116750.0</td>\n",
       "      <td>SF</td>\n",
       "      <td>345</td>\n",
       "      <td>SF</td>\n",
       "      <td>27</td>\n",
       "      <td>DAL</td>\n",
       "      <td>61</td>\n",
       "      <td>...</td>\n",
       "      <td>285</td>\n",
       "      <td>169</td>\n",
       "      <td>46</td>\n",
       "      <td>21</td>\n",
       "      <td>95</td>\n",
       "      <td>114</td>\n",
       "      <td>837</td>\n",
       "      <td>257</td>\n",
       "      <td>88</td>\n",
       "      <td>-7.1</td>\n",
       "    </tr>\n",
       "  </tbody>\n",
       "</table>\n",
       "<p>5 rows × 37 columns</p>\n",
       "</div>"
      ],
      "text/plain": [
       "   Rank            Player                 Team      Salary Position   Rk Pos  \\\n",
       "0     1      LeBron James  Cleveland Cavaliers  30963450.0       SF  221  SF   \n",
       "1    17        Kevin Love  Cleveland Cavaliers  21165675.0       PF  272  PF   \n",
       "2    27      Kyrie Irving  Cleveland Cavaliers  17638063.0       PG  218  PG   \n",
       "3     2       Mike Conley    Memphis Grizzlies  26540100.0       PG   93  PG   \n",
       "4    11  Chandler Parsons    Memphis Grizzlies  22116750.0       SF  345  SF   \n",
       "\n",
       "  Age   Tm   G    ...      TRB  AST  STL BLK  TOV   PF   PTS CurrValue  \\\n",
       "0  31  CLE  76    ...      565  514  104  49  249  143  1920       476   \n",
       "1  27  CLE  77    ...      762  186   58  41  142  159  1234       476   \n",
       "2  23  CLE  53    ...      157  249   56  18  124  107  1041       476   \n",
       "3  28  MEM  56    ...      164  342   67  16   84  100   857       257   \n",
       "4  27  DAL  61    ...      285  169   46  21   95  114   837       257   \n",
       "\n",
       "  Revenue OperIncome  \n",
       "0     159          5  \n",
       "1     159          5  \n",
       "2     159          5  \n",
       "3      88       -7.1  \n",
       "4      88       -7.1  \n",
       "\n",
       "[5 rows x 37 columns]"
      ]
     },
     "execution_count": 85,
     "metadata": {},
     "output_type": "execute_result"
    }
   ],
   "source": [
    "MERGED_DF = MERGED_DF.merge(TEAM_DATA, how='inner', on='Team')\n",
    "MERGED_DF.head()"
   ]
  },
  {
   "cell_type": "markdown",
   "metadata": {},
   "source": [
    "### Comparing team overall value to player salaries\n",
    "- Based on the line graph below, there seems to be little correlation between team value and player salaries.\n",
    "- There is correlation between ONLY the highest valued teams and the highest paid players, as demonstrated by the outlying portion on the left side of the graph."
   ]
  },
  {
   "cell_type": "code",
   "execution_count": 77,
   "metadata": {
    "collapsed": false
   },
   "outputs": [],
   "source": [
    "COMPARE_TEAM_VALUES = MERGED_DF[[\"Player\",\"Team\",\"Salary\",\"CurrValue\"]].copy()\n",
    "COMPARE_TEAM_VALUES.CurrValue = pd.to_numeric(MERGED_DF.CurrValue)\n",
    "COMPARE_TEAM_VALUES.CurrValue = COMPARE_TEAM_VALUES.CurrValue * 100000\n",
    "\n",
    "COMPARE_TEAM_VALUES_VALUE = COMPARE_TEAM_VALUES.groupby([\"Team\",\"Player\"]).sum().reset_index().sort_values([\"CurrValue\",\"Team\"], ascending=False).reset_index()\n",
    "COMPARE_TEAM_VALUES_VALUE = COMPARE_TEAM_VALUES_VALUE.drop(\"index\", 1)"
   ]
  },
  {
   "cell_type": "code",
   "execution_count": 82,
   "metadata": {
    "collapsed": false
   },
   "outputs": [
    {
     "data": {
      "text/plain": [
       "<matplotlib.axes._subplots.AxesSubplot at 0x117180198>"
      ]
     },
     "execution_count": 82,
     "metadata": {},
     "output_type": "execute_result"
    },
    {
     "data": {
      "image/png": "[encoded data removed]",
      "text/plain": [
       "<matplotlib.figure.Figure at 0x11628b668>"
      ]
     },
     "metadata": {},
     "output_type": "display_data"
    }
   ],
   "source": [
    "COMPARE_TEAM_VALUES_VALUE.plot()"
   ]
  },
  {
   "cell_type": "markdown",
   "metadata": {},
   "source": [
    "### Comparing team revenue to player salaries\n",
    "- Once again, the only correlation between team revenue and player salaries it between the outliers. There is a correlation between only the highest-revenue teams and highest-paid players."
   ]
  },
  {
   "cell_type": "code",
   "execution_count": 78,
   "metadata": {
    "collapsed": false
   },
   "outputs": [],
   "source": [
    "COMPARE_TEAM_VALUES = MERGED_DF[[\"Player\",\"Team\",\"Salary\",\"Revenue\"]].copy()\n",
    "COMPARE_TEAM_VALUES.Revenue = pd.to_numeric(MERGED_DF.Revenue)\n",
    "COMPARE_TEAM_VALUES.Revenue = COMPARE_TEAM_VALUES.Revenue * 100000\n",
    "\n",
    "COMPARE_TEAM_VALUES_REVENUE = COMPARE_TEAM_VALUES.groupby([\"Team\",\"Player\"]).sum().reset_index().sort_values([\"Revenue\",\"Team\"], ascending=False).reset_index()\n",
    "COMPARE_TEAM_VALUES_REVENUE = COMPARE_TEAM_VALUES_REVENUE.drop(\"index\", 1)"
   ]
  },
  {
   "cell_type": "code",
   "execution_count": 81,
   "metadata": {
    "collapsed": false
   },
   "outputs": [
    {
     "data": {
      "text/plain": [
       "<matplotlib.axes._subplots.AxesSubplot at 0x11711c748>"
      ]
     },
     "execution_count": 81,
     "metadata": {},
     "output_type": "execute_result"
    },
    {
     "data": {
      "image/png": "[encoded data removed]",
      "text/plain": [
       "<matplotlib.figure.Figure at 0x1164e5f98>"
      ]
     },
     "metadata": {},
     "output_type": "display_data"
    }
   ],
   "source": [
    "COMPARE_TEAM_VALUES_REVENUE.plot()"
   ]
  },
  {
   "cell_type": "markdown",
   "metadata": {},
   "source": [
    "#### I investigated the PyGitHub API, which can be used to manage GitHub repos and commit files directly from a Python App. The API can be useful if you need to publish data to GitHub in realtime. An example could be website survey data, website usage stats, etc., that needs to be posted to GitHub in realtime periodically."
   ]
  },
  {
   "cell_type": "code",
   "execution_count": 83,
   "metadata": {
    "collapsed": false
   },
   "outputs": [
    {
     "name": "stdout",
     "output_type": "stream",
     "text": [
      "Found repo: IS_362_Final_Project_PyGitHub\n"
     ]
    }
   ],
   "source": [
    "from github import Github\n",
    "from github import Commit\n",
    "g = Github(\"aedoler\", \"**********\")\n",
    "\n",
    "user = g.get_user()\n",
    "\n",
    "new_repo = 'IS_362_Final_Project_PyGitHub'\n",
    "for repo in g.get_user().get_repos():\n",
    "    if not new_repo:\n",
    "        repo = user.create_repo('IS_362_Final_Project_PyGitHub')\n",
    "    elif repo.name == new_repo:\n",
    "        print(\"Found repo: %s\" % repo.name)\n"
   ]
  },
  {
   "cell_type": "markdown",
   "metadata": {},
   "source": [
    "## Conclusions\n",
    "- There are some factors that affect how much an NBA player earns. Two of these are both the player's position and certain stats, such as points scored.\n",
    "    - Point Guard is the position that tends to earn the most. Makes sense since they are often the leaders on the           court.\n",
    "    - Shooting Guards have the lowest salary on average, with the remaining positions somewhere in between.\n",
    "    - Players having scored more points tend to earn more. This is not an extremely strong relationship however, as         there are too many outliers.\n",
    "- Team monetary value and revenue seems to have little to no impact on players' salaries- except in the case of players making the highest salaries and teams with the highest value/revenue.\n"
   ]
  }
 ],
 "metadata": {
  "kernelspec": {
   "display_name": "Python 3",
   "language": "python",
   "name": "python3"
  },
  "language_info": {
   "codemirror_mode": {
    "name": "ipython",
    "version": 3
   },
   "file_extension": ".py",
   "mimetype": "text/x-python",
   "name": "python",
   "nbconvert_exporter": "python",
   "pygments_lexer": "ipython3",
   "version": "3.5.2"
  }
 },
 "nbformat": 4,
 "nbformat_minor": 2
}
